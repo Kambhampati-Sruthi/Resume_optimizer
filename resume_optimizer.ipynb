{
 "cells": [
  {
   "cell_type": "code",
   "execution_count": 1,
   "id": "c41ac433-ff46-4d48-aacb-c3c0c0fce2f3",
   "metadata": {},
   "outputs": [],
   "source": [
    "import pdfplumber\n",
    "def extract_resume_text(pdf_path):\n",
    "    text = \"\"\n",
    "    with pdfplumber.open(pdf_path) as pdf:\n",
    "        for page in pdf.pages:\n",
    "            text += page.extract_text() or \"\"\n",
    "    return text"
   ]
  },
  {
   "cell_type": "code",
   "execution_count": 2,
   "id": "ce930290-f6f3-418b-a8d2-979bbeff2821",
   "metadata": {},
   "outputs": [],
   "source": [
    "resume_text = extract_resume_text(\"C:/Users/kambh/Downloads/resume1.pdf.pdf\")"
   ]
  },
  {
   "cell_type": "code",
   "execution_count": 4,
   "id": "db3e9eb4-62ca-42a2-91c4-aaead9626add",
   "metadata": {},
   "outputs": [
    {
     "data": {
      "text/plain": [
       "'Kambhampati Sruthi\\nCONTACT Phone: +91 8978791505\\nEmail:kambhampatisruthi@gmail.com\\nLinkedin: www.linkedin.com/in/kambhampati-sruthi\\nOBJECTIVE Aspiring AI and Data Science engineer seeking internship opportunities to apply skills in\\nmachine learning, data analysis, and intelligent systems development.\\nEDUCATION B. Tech -Artificial Intelligence and Data Science ,Ramachandra College Of Engineering\\n2023-2027\\nCGPA:9.4\\nIntermediate\\nNRI Junior College, Eluru\\n2021–2023 | Marks: 95%\\nSSC (Class X)\\nIndian High EM School, Mulagalampadu\\n2020–2021 | GPA: 9.8\\nOBJECTIVE Programming languages : Python, c\\nDatabase : SQL\\nTools : VS Code, Github\\nC programming getting started 1 - UC Santa Cruz\\nCERTIFICATES Introduction to c programming- UC Santa Cruz\\nPython for beginners - Simplilearn\\nDate of Birth:11/06/2005\\nPERSONAL\\nNationality: Indian\\nDETAILS\\nLanguages known: English,Telugu'"
      ]
     },
     "execution_count": 4,
     "metadata": {},
     "output_type": "execute_result"
    }
   ],
   "source": [
    "resume_text"
   ]
  },
  {
   "cell_type": "code",
   "execution_count": 6,
   "id": "c4aac733-f0d5-4c33-a7ec-870143a641b5",
   "metadata": {},
   "outputs": [],
   "source": [
    "from sklearn.feature_extraction.text import CountVectorizer\n",
    "def extract_keywords(job_description):\n",
    "    vectorizer = CountVectorizer(stop_words='english')\n",
    "    X = vectorizer.fit_transform([job_description])\n",
    "    keywords = vectorizer.get_feature_names_out()\n",
    "    return list(set(keywords))"
   ]
  },
  {
   "cell_type": "code",
   "execution_count": 8,
   "id": "99778a2f-614e-4452-9835-7d63c6ca7557",
   "metadata": {},
   "outputs": [
    {
     "name": "stdout",
     "output_type": "stream",
     "text": [
      "📌 Extracted Keywords: ['experience', 'looking', 'git', 'knowledge', 'python', 'sql', 'plus', 'developer']\n"
     ]
    }
   ],
   "source": [
    "job_description = \"\"\"\n",
    "We are looking for a Python developer with experience in SQL.\n",
    "Knowledge of Git is a plus.\n",
    "\"\"\"\n",
    "job_keywords = extract_keywords(job_description)\n",
    "print(\"📌 Extracted Keywords:\", job_keywords)"
   ]
  },
  {
   "cell_type": "code",
   "execution_count": 9,
   "id": "5ab14bdc-da26-4254-a998-a2aa978964ca",
   "metadata": {},
   "outputs": [],
   "source": [
    "def find_missing_keywords(resume_text, job_keywords):\n",
    "    resume_words = set(resume_text.lower().split())\n",
    "    missing = [kw for kw in job_keywords if kw.lower() not in resume_words]\n",
    "    return missing"
   ]
  },
  {
   "cell_type": "code",
   "execution_count": 13,
   "id": "88db5ddc-b3dd-44eb-8a34-d0852f08417f",
   "metadata": {},
   "outputs": [
    {
     "name": "stdout",
     "output_type": "stream",
     "text": [
      "❌ Missing Keywords: ['experience', 'looking', 'git', 'knowledge', 'plus', 'developer']\n"
     ]
    }
   ],
   "source": [
    "resume_text = extract_resume_text(\"C:/Users/kambh/Downloads/resume1.pdf.pdf\")\n",
    "job_keywords = extract_keywords(job_description)\n",
    "missing_keywords = find_missing_keywords(resume_text, job_keywords)\n",
    "print(\"❌ Missing Keywords:\", missing_keywords)"
   ]
  },
  {
   "cell_type": "code",
   "execution_count": 15,
   "id": "fe39cf53-3014-433d-9026-aa9c32503ef1",
   "metadata": {},
   "outputs": [],
   "source": [
    "from PyPDF2 import PdfReader, PdfWriter\n",
    "from reportlab.pdfgen import canvas\n",
    "from reportlab.lib.pagesizes import A4\n",
    "import io\n",
    "def append_keywords_to_pdf(original_pdf_path, output_pdf_path, missing_keywords):\n",
    "    packet = io.BytesIO()\n",
    "    can = canvas.Canvas(packet, pagesize=A4)\n",
    "    can.setFont(\"Helvetica-Bold\", 14)\n",
    "    can.drawString(100, 800, \"Optimised Skills\")\n",
    "    can.setFont(\"Helvetica\", 12)\n",
    "    y = 780\n",
    "    for kw in missing_keywords:\n",
    "        can.drawString(120, y, f\"• {kw}\")\n",
    "        y -= 20\n",
    "        if y < 50:\n",
    "            can.showPage()\n",
    "            y = 800\n",
    "    can.save()\n",
    "    packet.seek(0)\n",
    "    original_pdf = PdfReader(original_pdf_path)\n",
    "    new_pdf = PdfReader(packet)\n",
    "    writer = PdfWriter()\n",
    "    for page in original_pdf.pages:\n",
    "        writer.add_page(page)\n",
    "    for page in new_pdf.pages:\n",
    "        writer.add_page(page)\n",
    "    with open(output_pdf_path, \"wb\") as f:\n",
    "        writer.write(f)\n",
    "    print(f\"✅ Optimised resume saved as: {output_pdf_path}\")"
   ]
  },
  {
   "cell_type": "code",
   "execution_count": 17,
   "id": "6a460dc1-db36-4f95-a7f3-50ad33a3aa72",
   "metadata": {},
   "outputs": [
    {
     "name": "stdout",
     "output_type": "stream",
     "text": [
      "✅ Optimised resume saved as: C:/Users/kambh/Downloads/optimised_resume.pdf\n"
     ]
    }
   ],
   "source": [
    "append_keywords_to_pdf(\n",
    "    original_pdf_path=\"C:/Users/kambh/Downloads/resume1.pdf.pdf\",\n",
    "    output_pdf_path=\"C:/Users/kambh/Downloads/optimised_resume.pdf\",\n",
    "    missing_keywords=missing_keywords\n",
    ")"
   ]
  },
  {
   "cell_type": "code",
   "execution_count": 19,
   "id": "26fab114-8956-4edf-b6fa-f1eb9a8ff2cf",
   "metadata": {},
   "outputs": [],
   "source": [
    "output_pdf_path = \"C:/Users/kambh/Downloads/optimised_resume.pdf\""
   ]
  },
  {
   "cell_type": "code",
   "execution_count": 21,
   "id": "d5ca85c4-bdff-4f8e-bf00-9d925b66eaf1",
   "metadata": {},
   "outputs": [],
   "source": [
    "def generate_explanation(missing_keywords):\n",
    "    explanation = f\"\"\"\n",
    "✅ Changes Made:\n",
    "- Added {len(missing_keywords)} missing keywords to improve ATS matching.\n",
    "- Keywords added: {', '.join(missing_keywords)}\n",
    "- A new page titled 'Optimised Skills' was appended to the resume.\n",
    "- Resume is now better aligned with the job description.\n",
    "\"\"\"\n",
    "    return explanation"
   ]
  },
  {
   "cell_type": "code",
   "execution_count": 23,
   "id": "6d6ffc0d-edbb-43a9-a37a-8e3fabef9243",
   "metadata": {},
   "outputs": [
    {
     "name": "stdout",
     "output_type": "stream",
     "text": [
      "\n",
      "✅ Changes Made:\n",
      "- Added 6 missing keywords to improve ATS matching.\n",
      "- Keywords added: experience, looking, git, knowledge, plus, developer\n",
      "- A new page titled 'Optimised Skills' was appended to the resume.\n",
      "- Resume is now better aligned with the job description.\n",
      "\n"
     ]
    }
   ],
   "source": [
    "explanation = generate_explanation(missing_keywords)\n",
    "print(explanation)"
   ]
  },
  {
   "cell_type": "code",
   "execution_count": 25,
   "id": "cacef8c4-fb59-4594-bf01-9cd47802f4b3",
   "metadata": {},
   "outputs": [],
   "source": [
    "with open(\"C:/Users/kambh/Downloads/resume_changes.txt\", \"w\", encoding=\"utf-8\") as f:\n",
    "    f.write(explanation)"
   ]
  },
  {
   "cell_type": "code",
   "execution_count": 27,
   "id": "fdb47524-2deb-4fb9-b1d0-01c303fc5b93",
   "metadata": {},
   "outputs": [],
   "source": [
    "def calculate_match_score(resume_text, job_keywords):\n",
    "    resume_words = set(resume_text.lower().split())\n",
    "    matched = [kw for kw in job_keywords if kw.lower() in resume_words]\n",
    "    score = (len(matched) / len(job_keywords)) * 100\n",
    "    return round(score, 2)"
   ]
  },
  {
   "cell_type": "code",
   "execution_count": 29,
   "id": "0ad7fe6d-9d98-4506-b5f7-77f7e8a66da2",
   "metadata": {},
   "outputs": [
    {
     "data": {
      "text/plain": [
       "25.0"
      ]
     },
     "execution_count": 29,
     "metadata": {},
     "output_type": "execute_result"
    }
   ],
   "source": [
    "calculate_match_score(resume_text,job_keywords)"
   ]
  },
  {
   "cell_type": "code",
   "execution_count": 31,
   "id": "a882062a-dc41-437a-9379-e0fccc1efd62",
   "metadata": {},
   "outputs": [
    {
     "name": "stdout",
     "output_type": "stream",
     "text": [
      "Overwriting resume_optimizer1.py\n"
     ]
    }
   ],
   "source": [
    "%%writefile resume_optimizer1.py\n",
    "import streamlit as st\n",
    "from resume_optimizer import extract_resume_text, extract_keywords, find_missing_keywords, append_keywords_to_pdf, generate_explanation\n",
    "st.title(\"Resume Keyword Optimizer\")\n",
    "\n",
    "job_description = st.text_area(\"Paste Job Description Here\")\n",
    "resume_file = st.file_uploader(\"Upload Resume PDF\", type=[\"pdf\"])\n",
    "\n",
    "if st.button(\"Optimize Resume\"):\n",
    "    if job_description and resume_file:\n",
    "        resume_text = extract_resume_text(resume_file)\n",
    "        job_keywords = extract_keywords(job_description)\n",
    "        missing_keywords = find_missing_keywords(resume_text, job_keywords)\n",
    "\n",
    "        explanation = generate_explanation(missing_keywords)\n",
    "        st.write(explanation)\n",
    "\n",
    "        output_path = \"optimised_resume.pdf\"\n",
    "        append_keywords_to_pdf(resume_file, output_path, missing_keywords)\n",
    "\n",
    "        with open(output_path, \"rb\") as f:\n",
    "            st.download_button(\"Download Optimized Resume\", f, file_name=\"optimised_resume.pdf\")\n",
    "    else:\n",
    "        st.warning(\"Please provide both job description and resume.\")"
   ]
  },
  {
   "cell_type": "code",
   "execution_count": null,
   "id": "433e1485-ec37-4baa-827e-a0bd76e6e644",
   "metadata": {},
   "outputs": [],
   "source": [
    "!streamlit run resume_optimizer1.py"
   ]
  },
  {
   "cell_type": "code",
   "execution_count": null,
   "id": "9ae599c0-d8dd-4db3-93fc-880b41019b7a",
   "metadata": {},
   "outputs": [],
   "source": []
  }
 ],
 "metadata": {
  "kernelspec": {
   "display_name": "Python [conda env:p3workshop]",
   "language": "python",
   "name": "conda-env-p3workshop-py"
  },
  "language_info": {
   "codemirror_mode": {
    "name": "ipython",
    "version": 3
   },
   "file_extension": ".py",
   "mimetype": "text/x-python",
   "name": "python",
   "nbconvert_exporter": "python",
   "pygments_lexer": "ipython3",
   "version": "3.12.8"
  }
 },
 "nbformat": 4,
 "nbformat_minor": 5
}
